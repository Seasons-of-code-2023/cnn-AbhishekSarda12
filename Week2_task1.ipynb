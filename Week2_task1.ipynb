{
 "cells": [
  {
   "cell_type": "code",
   "execution_count": 1,
   "id": "f9264b45",
   "metadata": {},
   "outputs": [],
   "source": [
    "import numpy as np\n",
    "from tensorflow import keras\n",
    "from tensorflow.keras import layers"
   ]
  },
  {
   "cell_type": "code",
   "execution_count": 2,
   "id": "2484e026",
   "metadata": {},
   "outputs": [],
   "source": [
    "num_classes = 10\n",
    "input_shape = (28, 28, 1)"
   ]
  },
  {
   "cell_type": "code",
   "execution_count": 3,
   "id": "adf1c28d",
   "metadata": {},
   "outputs": [
    {
     "name": "stdout",
     "output_type": "stream",
     "text": [
      "Downloading data from https://storage.googleapis.com/tensorflow/tf-keras-datasets/mnist.npz\n",
      "11490434/11490434 [==============================] - 6s 1us/step\n"
     ]
    }
   ],
   "source": [
    "(x_train, y_train), (x_test, y_test) = keras.datasets.mnist.load_data()"
   ]
  },
  {
   "cell_type": "code",
   "execution_count": 4,
   "id": "cf733d44",
   "metadata": {},
   "outputs": [],
   "source": [
    "x_train = x_train.astype(\"float32\") / 255\n",
    "x_test = x_test.astype(\"float32\") / 255"
   ]
  },
  {
   "cell_type": "code",
   "execution_count": 5,
   "id": "67444d27",
   "metadata": {},
   "outputs": [
    {
     "name": "stdout",
     "output_type": "stream",
     "text": [
      "x_train shape: (60000, 28, 28, 1)\n",
      "60000 train samples\n",
      "10000 test samples\n"
     ]
    }
   ],
   "source": [
    "x_train = np.expand_dims(x_train, -1)\n",
    "x_test = np.expand_dims(x_test, -1)\n",
    "print(\"x_train shape:\", x_train.shape)\n",
    "print(x_train.shape[0], \"train samples\")\n",
    "print(x_test.shape[0], \"test samples\")\n"
   ]
  },
  {
   "cell_type": "code",
   "execution_count": 6,
   "id": "b0bbbb89",
   "metadata": {},
   "outputs": [],
   "source": [
    "y_train = keras.utils.to_categorical(y_train, num_classes)\n",
    "y_test = keras.utils.to_categorical(y_test, num_classes)"
   ]
  },
  {
   "cell_type": "code",
   "execution_count": 7,
   "id": "67399a96",
   "metadata": {},
   "outputs": [],
   "source": [
    "model = keras.Sequential(\n",
    "    [\n",
    "        keras.Input(shape=input_shape),\n",
    "        layers.Conv2D(32, kernel_size=(3, 3), activation=\"relu\"),\n",
    "        layers.MaxPooling2D(pool_size=(2, 2)),\n",
    "        layers.Conv2D(64, kernel_size=(3, 3), activation=\"relu\"),\n",
    "        layers.MaxPooling2D(pool_size=(2, 2)),\n",
    "        layers.Flatten(),\n",
    "        layers.Dropout(0.5),\n",
    "        layers.Dense(1024, activation=\"relu\")\n",
    "        layers.Dense(num_classes, activation=\"softmax\"),\n",
    "    ]\n",
    ")"
   ]
  },
  {
   "cell_type": "code",
   "execution_count": 10,
   "id": "d8207471",
   "metadata": {},
   "outputs": [
    {
     "name": "stdout",
     "output_type": "stream",
     "text": [
      "Epoch 1/10\n",
      "422/422 [==============================] - 17s 37ms/step - loss: 0.3634 - accuracy: 0.8909 - val_loss: 0.0768 - val_accuracy: 0.9797\n",
      "Epoch 2/10\n",
      "422/422 [==============================] - 15s 35ms/step - loss: 0.1096 - accuracy: 0.9672 - val_loss: 0.0594 - val_accuracy: 0.9842\n",
      "Epoch 3/10\n",
      "422/422 [==============================] - 15s 35ms/step - loss: 0.0818 - accuracy: 0.9744 - val_loss: 0.0476 - val_accuracy: 0.9878\n",
      "Epoch 4/10\n",
      "422/422 [==============================] - 15s 35ms/step - loss: 0.0691 - accuracy: 0.9779 - val_loss: 0.0419 - val_accuracy: 0.9890\n",
      "Epoch 5/10\n",
      "422/422 [==============================] - 15s 35ms/step - loss: 0.0610 - accuracy: 0.9810 - val_loss: 0.0360 - val_accuracy: 0.9905\n",
      "Epoch 6/10\n",
      "422/422 [==============================] - 15s 35ms/step - loss: 0.0559 - accuracy: 0.9831 - val_loss: 0.0324 - val_accuracy: 0.9908\n",
      "Epoch 7/10\n",
      "422/422 [==============================] - 15s 35ms/step - loss: 0.0527 - accuracy: 0.9831 - val_loss: 0.0347 - val_accuracy: 0.9910\n",
      "Epoch 8/10\n",
      "422/422 [==============================] - 15s 35ms/step - loss: 0.0480 - accuracy: 0.9854 - val_loss: 0.0331 - val_accuracy: 0.9903\n",
      "Epoch 9/10\n",
      "422/422 [==============================] - 15s 35ms/step - loss: 0.0451 - accuracy: 0.9853 - val_loss: 0.0319 - val_accuracy: 0.9910\n",
      "Epoch 10/10\n",
      "422/422 [==============================] - 15s 35ms/step - loss: 0.0423 - accuracy: 0.9869 - val_loss: 0.0305 - val_accuracy: 0.9933\n"
     ]
    },
    {
     "data": {
      "text/plain": [
       "<keras.callbacks.History at 0x1cf57d57790>"
      ]
     },
     "execution_count": 10,
     "metadata": {},
     "output_type": "execute_result"
    }
   ],
   "source": [
    "model.compile(loss=\"categorical_crossentropy\", optimizer=\"adam\", metrics=[\"accuracy\"])\n",
    "model.fit(x_train, y_train, batch_size=128, epochs=10, validation_split=0.1)\n"
   ]
  },
  {
   "cell_type": "code",
   "execution_count": 11,
   "id": "0162ef53",
   "metadata": {},
   "outputs": [
    {
     "name": "stdout",
     "output_type": "stream",
     "text": [
      "Test loss: 0.028258396312594414\n",
      "Test accuracy: 0.9901000261306763\n"
     ]
    }
   ],
   "source": [
    "score = model.evaluate(x_test, y_test, verbose=0)\n",
    "print(\"Test loss:\", score[0])\n",
    "print(\"Test accuracy:\", score[1])\n"
   ]
  },
  {
   "cell_type": "code",
   "execution_count": 12,
   "id": "c064eb39",
   "metadata": {},
   "outputs": [],
   "source": [
    "model.save(\"digit_classifier.h5\")"
   ]
  },
  {
   "cell_type": "code",
   "execution_count": 14,
   "id": "97da5d14",
   "metadata": {},
   "outputs": [
    {
     "name": "stderr",
     "output_type": "stream",
     "text": [
      "Exception in Tkinter callback\n",
      "Traceback (most recent call last):\n",
      "  File \"C:\\Users\\hp\\AppData\\Local\\Programs\\Python\\Python311\\Lib\\tkinter\\__init__.py\", line 1948, in __call__\n",
      "    return self.func(*args)\n",
      "           ^^^^^^^^^^^^^^^^\n",
      "  File \"C:\\Users\\hp\\AppData\\Local\\Temp\\ipykernel_26692\\136118284.py\", line 12, in predict_digit\n",
      "    image = image_canvas.resize((28, 28)).convert(\"L\")\n",
      "            ^^^^^^^^^^^^\n",
      "NameError: name 'image_canvas' is not defined\n"
     ]
    }
   ],
   "source": [
    "import tkinter as tk\n",
    "from tensorflow import keras\n",
    "import numpy as np\n",
    "from PIL import Image, ImageDraw\n",
    "\n",
    "# Load the trained model\n",
    "model = keras.models.load_model(\"digit_classifier.h5\")\n",
    "\n",
    "# Function to predict the digit drawn on the canvas\n",
    "def predict_digit():\n",
    "    # Convert the drawn image to grayscale and resize it to 28x28 pixels\n",
    "    image = image_canvas.resize((28, 28)).convert(\"L\")\n",
    "\n",
    "    # Convert the image to a numpy array\n",
    "    image_array = np.array(image)\n",
    "\n",
    "    # Normalize the image array\n",
    "    image_array = image_array / 255.0\n",
    "\n",
    "    # Reshape the image array to match the input shape expected by the model\n",
    "    image_array = np.reshape(image_array, (1, 28, 28, 1))\n",
    "\n",
    "    # Make the prediction\n",
    "    prediction = model.predict(image_array)\n",
    "\n",
    "    # Get the predicted digit\n",
    "    predicted_digit = np.argmax(prediction)\n",
    "\n",
    "    # Print the predicted digit\n",
    "    print(\"Predicted Digit:\", predicted_digit)\n",
    "\n",
    "# Function to clear the canvas\n",
    "def clear_canvas():\n",
    "    canvas.delete(\"all\")\n",
    "\n",
    "# Create the GUI\n",
    "window = tk.Tk()\n",
    "window.title(\"Digit Classifier\")\n",
    "\n",
    "# Create a canvas to draw digits\n",
    "canvas_width = 280\n",
    "canvas_height = 280\n",
    "canvas = tk.Canvas(window, width=canvas_width, height=canvas_height, bg=\"white\")\n",
    "canvas.pack()\n",
    "\n",
    "# Create buttons\n",
    "button_predict = tk.Button(window, text=\"Predict\", command=predict_digit)\n",
    "button_predict.pack(side=\"left\", padx=10)\n",
    "button_clear = tk.Button(window, text=\"Clear\", command=clear_canvas)\n",
    "button_clear.pack(side=\"right\", padx=10)\n",
    "\n",
    "# Function to handle mouse events\n",
    "def handle_mouse(event):\n",
    "    x = event.x\n",
    "    y = event.y\n",
    "    canvas.create_oval(x - 8, y - 8, x + 8, y + 8, fill=\"black\")\n",
    "\n",
    "canvas.bind(\"<B1-Motion>\", handle_mouse)\n",
    "\n",
    "# Run the GUI\n",
    "window.mainloop()\n"
   ]
  },
  {
   "cell_type": "code",
   "execution_count": null,
   "id": "91b384ab",
   "metadata": {},
   "outputs": [],
   "source": []
  }
 ],
 "metadata": {
  "kernelspec": {
   "display_name": "Python 3 (ipykernel)",
   "language": "python",
   "name": "python3"
  },
  "language_info": {
   "codemirror_mode": {
    "name": "ipython",
    "version": 3
   },
   "file_extension": ".py",
   "mimetype": "text/x-python",
   "name": "python",
   "nbconvert_exporter": "python",
   "pygments_lexer": "ipython3",
   "version": "3.11.3"
  }
 },
 "nbformat": 4,
 "nbformat_minor": 5
}
